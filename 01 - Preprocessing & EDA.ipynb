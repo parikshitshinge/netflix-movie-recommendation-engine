{
 "cells": [
  {
   "cell_type": "markdown",
   "id": "8850d1fe",
   "metadata": {},
   "source": [
    "# Netflix movie recommendation engine\n",
    "Kaggle competition link: https://www.kaggle.com/datasets/netflix-inc/netflix-prize-data "
   ]
  },
  {
   "cell_type": "markdown",
   "id": "516a0544",
   "metadata": {},
   "source": [
    "### Given data:<br>\n",
    "There are 4 txt files (combined_data_(1,2,3,4).txt) given.<br>\n",
    "Each file consists of movie ID followed by colon and then list of Customer ID, Rating, Date on each of next line.<br>\n",
    "~ MovieIDs range from 1 to 17770 sequentially. <br>\n",
    "~ CustomerIDs range from 1 to 2649429, with gaps. There are 480189 users. <br>\n",
    "~ Ratings are on a five star (integral) scale from 1 to 5. <br>\n",
    "~ Dates have the format YYYY-MM-DD.<br><br>\n",
    "The txt format is like this:\n",
    "<br><br>\n",
    "MovieID1:<br>\n",
    "CustomerID11,Rating11,Date11<br>\n",
    "CustomerID12,Rating12,Date12<br>\n",
    "...<br>\n",
    "MovieID2:<br>\n",
    "CustomerID21,Rating21,Date21<br>\n",
    "CustomerID22,Rating22,Date22<br>\n",
    "<br>\n",
    "Another file is provided in which movie information is given \"movie_titles.txt\" is in the following format:<br>\n",
    "\n",
    "MovieID,YearOfRelease,Title\n",
    "\n",
    "~ MovieID do not correspond to actual Netflix movie ids or IMDB movie ids. <br>\n",
    "~ YearOfRelease can range from 1890 to 2005 and may correspond to the release of corresponding DVD, not necessarily its theaterical release. <br>\n",
    "~ Title is the Netflix movie title and may not correspond to titles used on other sites. Titles are in English.<br>\n",
    "\n",
    "<br>\n",
    "\n",
    "### Objectives:\n",
    "1. Predict the rating that a user would give to a movie that he ahs not yet rated.\n",
    "2. Minimize the difference between predicted and actual rating (RMSE and MAPE)"
   ]
  },
  {
   "cell_type": "markdown",
   "id": "b567dd2c",
   "metadata": {},
   "source": [
    "### My strategy to follow to solve this:\n",
    "\n",
    "1. Preprocessing and EDA - Here we will bring the data in required format which will be easy to manipulate or analyze using dataframes. After that we will perform Exploratory Data Analysis on whole data. \n",
    "2. Splitting data - After EDA, we will split the data into train and test so that we can evaluate our future recommender model.\n",
    "3. Feature Engineering - Here we will try to find/derive the features which will be useful in predicting the ratings. Few of the features I can think of now is average rating given by the user, average rating received for movie, ratings from top 10 similar users, ratings for top 10 similar movies etc. Here we will be using basic statistics, collaborative filtering methods or some advanced techniques to find the features.\n",
    "4. Model building - Once we find the features, we will try to build models on it. We will be using some standard / most popular models for recommendation systems or may stack few depending on the results we will get. \n",
    "5. Hyperparameter tuning - Based on the model we will build, we may need to do some hyperparameter tuning. "
   ]
  },
  {
   "cell_type": "markdown",
   "id": "e6b14eff",
   "metadata": {},
   "source": [
    "### 1. Preprocessing"
   ]
  },
  {
   "cell_type": "code",
   "execution_count": 67,
   "id": "299a0bab",
   "metadata": {},
   "outputs": [],
   "source": [
    "# Initial imports\n",
    "from datetime import datetime # To compute time taken wherever necessary\n",
    "import os\n",
    "import pandas as pd \n",
    "import numpy as np\n",
    "import matplotlib.pyplot as plt\n",
    "import seaborn as sns\n",
    "\n",
    "import warnings\n",
    "warnings.filterwarnings(\"ignore\")"
   ]
  },
  {
   "cell_type": "markdown",
   "id": "1a232513",
   "metadata": {},
   "source": [
    "#### Convert the data to table format like movieID, userID, rating <br> After that, merge data from all 4 .txt files to 1 csv"
   ]
  },
  {
   "cell_type": "code",
   "execution_count": 14,
   "id": "447076fe",
   "metadata": {},
   "outputs": [
    {
     "name": "stdout",
     "output_type": "stream",
     "text": [
      "Reading data from F:/09 - Machine Learning Case Studies/01 - Netflix Movies Recommendation/Input Data/combined_data_1.txt\n",
      "Done.\n",
      "\n",
      "Reading data from F:/09 - Machine Learning Case Studies/01 - Netflix Movies Recommendation/Input Data/combined_data_2.txt\n",
      "Done.\n",
      "\n",
      "Reading data from F:/09 - Machine Learning Case Studies/01 - Netflix Movies Recommendation/Input Data/combined_data_3.txt\n",
      "Done.\n",
      "\n",
      "Reading data from F:/09 - Machine Learning Case Studies/01 - Netflix Movies Recommendation/Input Data/combined_data_4.txt\n",
      "Done.\n",
      "\n",
      "\n",
      "Time taken for transformation:  0:04:29.441330\n"
     ]
    }
   ],
   "source": [
    "# Define the input folder, input files and transformed folder\n",
    "input_folder = 'F:/09 - Machine Learning Case Studies/01 - Netflix Movies Recommendation/Input Data'\n",
    "transformed_folder = 'F:/09 - Machine Learning Case Studies/01 - Netflix Movies Recommendation/Transformed Data'\n",
    "input_files = [input_folder+'/combined_data_1.txt', input_folder+'/combined_data_2.txt', input_folder+'/combined_data_3.txt', input_folder+'/combined_data_4.txt']\n",
    "\n",
    "start = datetime.now()\n",
    "if not os.path.isfile(transformed_folder+'/input_data.csv'):\n",
    "    transformed_data_file = open(transformed_folder+'/input_data.csv', mode='w')\n",
    "    \n",
    "    for current_file in input_files:\n",
    "        print('Reading data from {}'.format(current_file))\n",
    "        with open(current_file) as file_content:\n",
    "            for each_line in file_content:\n",
    "                each_line = each_line.strip()\n",
    "                if each_line.endswith(':'): # This is line on which movie_id is present\n",
    "                    movie_id = each_line.replace(':', '')\n",
    "                else: # Rest of the data lines where UserID, Rating, Date are present\n",
    "                    record = [word for word in each_line.split(',')]\n",
    "                    record.insert(0, movie_id)\n",
    "                    transformed_data_file.write(','.join(record))\n",
    "                    transformed_data_file.write('\\n')\n",
    "        print('Done.\\n')\n",
    "    transformed_data_file.close()\n",
    "print('\\nTime taken for transformation: ', datetime.now()-start)"
   ]
  },
  {
   "cell_type": "code",
   "execution_count": 20,
   "id": "2a68ac25",
   "metadata": {},
   "outputs": [
    {
     "name": "stdout",
     "output_type": "stream",
     "text": [
      "Loading the transformed .csv into DataFrame\n",
      "Done.\n",
      "\n",
      "**************************************************\n",
      "Time taken for the task:  0:01:06.235585\n"
     ]
    }
   ],
   "source": [
    "# Load the transformed input data to DataFrame\n",
    "start = datetime.now()\n",
    "print('Loading the transformed .csv into DataFrame')\n",
    "input_data_df = pd.read_csv(transformed_folder+'/input_data.csv', sep=',', names=['movie','user','rating','date'])\n",
    "input_data_df.date = pd.to_datetime(input_data_df.date) # Change datatype to datetime\n",
    "print('Done.\\n')\n",
    "print('*'*50)\n",
    "print('Time taken for the task: ', datetime.now()-start)"
   ]
  },
  {
   "cell_type": "code",
   "execution_count": 17,
   "id": "c1e77241",
   "metadata": {},
   "outputs": [
    {
     "data": {
      "text/html": [
       "<div>\n",
       "<style scoped>\n",
       "    .dataframe tbody tr th:only-of-type {\n",
       "        vertical-align: middle;\n",
       "    }\n",
       "\n",
       "    .dataframe tbody tr th {\n",
       "        vertical-align: top;\n",
       "    }\n",
       "\n",
       "    .dataframe thead th {\n",
       "        text-align: right;\n",
       "    }\n",
       "</style>\n",
       "<table border=\"1\" class=\"dataframe\">\n",
       "  <thead>\n",
       "    <tr style=\"text-align: right;\">\n",
       "      <th></th>\n",
       "      <th>movie</th>\n",
       "      <th>user</th>\n",
       "      <th>rating</th>\n",
       "      <th>date</th>\n",
       "    </tr>\n",
       "  </thead>\n",
       "  <tbody>\n",
       "    <tr>\n",
       "      <th>0</th>\n",
       "      <td>1</td>\n",
       "      <td>1488844</td>\n",
       "      <td>3</td>\n",
       "      <td>2005-09-06</td>\n",
       "    </tr>\n",
       "    <tr>\n",
       "      <th>1</th>\n",
       "      <td>1</td>\n",
       "      <td>822109</td>\n",
       "      <td>5</td>\n",
       "      <td>2005-05-13</td>\n",
       "    </tr>\n",
       "    <tr>\n",
       "      <th>2</th>\n",
       "      <td>1</td>\n",
       "      <td>885013</td>\n",
       "      <td>4</td>\n",
       "      <td>2005-10-19</td>\n",
       "    </tr>\n",
       "    <tr>\n",
       "      <th>3</th>\n",
       "      <td>1</td>\n",
       "      <td>30878</td>\n",
       "      <td>4</td>\n",
       "      <td>2005-12-26</td>\n",
       "    </tr>\n",
       "    <tr>\n",
       "      <th>4</th>\n",
       "      <td>1</td>\n",
       "      <td>823519</td>\n",
       "      <td>3</td>\n",
       "      <td>2004-05-03</td>\n",
       "    </tr>\n",
       "  </tbody>\n",
       "</table>\n",
       "</div>"
      ],
      "text/plain": [
       "   movie     user  rating       date\n",
       "0      1  1488844       3 2005-09-06\n",
       "1      1   822109       5 2005-05-13\n",
       "2      1   885013       4 2005-10-19\n",
       "3      1    30878       4 2005-12-26\n",
       "4      1   823519       3 2004-05-03"
      ]
     },
     "execution_count": 17,
     "metadata": {},
     "output_type": "execute_result"
    }
   ],
   "source": [
    "input_data_df.head()"
   ]
  },
  {
   "cell_type": "code",
   "execution_count": 21,
   "id": "a0934ee7",
   "metadata": {},
   "outputs": [
    {
     "name": "stdout",
     "output_type": "stream",
     "text": [
      "Sorting the DataFrame by date in ascending order\n",
      "Done.\n",
      "\n",
      "**************************************************\n",
      "Time taken for the task:  0:00:38.889256\n"
     ]
    }
   ],
   "source": [
    "# Sort the dataframe based on date ascendingly\n",
    "start = datetime.now()\n",
    "print('Sorting the DataFrame by date in ascending order')\n",
    "input_data_df.sort_values(by='date', inplace=True)\n",
    "print('Done.\\n')\n",
    "print('*'*50)\n",
    "print('Time taken for the task: ', datetime.now()-start)"
   ]
  },
  {
   "cell_type": "code",
   "execution_count": 23,
   "id": "ae76addc",
   "metadata": {},
   "outputs": [
    {
     "data": {
      "text/html": [
       "<div>\n",
       "<style scoped>\n",
       "    .dataframe tbody tr th:only-of-type {\n",
       "        vertical-align: middle;\n",
       "    }\n",
       "\n",
       "    .dataframe tbody tr th {\n",
       "        vertical-align: top;\n",
       "    }\n",
       "\n",
       "    .dataframe thead th {\n",
       "        text-align: right;\n",
       "    }\n",
       "</style>\n",
       "<table border=\"1\" class=\"dataframe\">\n",
       "  <thead>\n",
       "    <tr style=\"text-align: right;\">\n",
       "      <th></th>\n",
       "      <th>movie</th>\n",
       "      <th>user</th>\n",
       "      <th>rating</th>\n",
       "      <th>date</th>\n",
       "    </tr>\n",
       "  </thead>\n",
       "  <tbody>\n",
       "    <tr>\n",
       "      <th>56431994</th>\n",
       "      <td>10341</td>\n",
       "      <td>510180</td>\n",
       "      <td>4</td>\n",
       "      <td>1999-11-11</td>\n",
       "    </tr>\n",
       "    <tr>\n",
       "      <th>9056171</th>\n",
       "      <td>1798</td>\n",
       "      <td>510180</td>\n",
       "      <td>5</td>\n",
       "      <td>1999-11-11</td>\n",
       "    </tr>\n",
       "    <tr>\n",
       "      <th>58698779</th>\n",
       "      <td>10774</td>\n",
       "      <td>510180</td>\n",
       "      <td>3</td>\n",
       "      <td>1999-11-11</td>\n",
       "    </tr>\n",
       "    <tr>\n",
       "      <th>48101611</th>\n",
       "      <td>8651</td>\n",
       "      <td>510180</td>\n",
       "      <td>2</td>\n",
       "      <td>1999-11-11</td>\n",
       "    </tr>\n",
       "    <tr>\n",
       "      <th>81893208</th>\n",
       "      <td>14660</td>\n",
       "      <td>510180</td>\n",
       "      <td>2</td>\n",
       "      <td>1999-11-11</td>\n",
       "    </tr>\n",
       "  </tbody>\n",
       "</table>\n",
       "</div>"
      ],
      "text/plain": [
       "          movie    user  rating       date\n",
       "56431994  10341  510180       4 1999-11-11\n",
       "9056171    1798  510180       5 1999-11-11\n",
       "58698779  10774  510180       3 1999-11-11\n",
       "48101611   8651  510180       2 1999-11-11\n",
       "81893208  14660  510180       2 1999-11-11"
      ]
     },
     "execution_count": 23,
     "metadata": {},
     "output_type": "execute_result"
    }
   ],
   "source": [
    "input_data_df.head()"
   ]
  },
  {
   "cell_type": "markdown",
   "id": "5c6ccd78",
   "metadata": {},
   "source": [
    "### 2. EDA"
   ]
  },
  {
   "cell_type": "markdown",
   "id": "b48c722b",
   "metadata": {},
   "source": [
    "#### Check for NaN or null values"
   ]
  },
  {
   "cell_type": "code",
   "execution_count": 29,
   "id": "56bef289",
   "metadata": {},
   "outputs": [
    {
     "name": "stdout",
     "output_type": "stream",
     "text": [
      "Total NaN values: 0\n"
     ]
    }
   ],
   "source": [
    "print('Total NaN values: {}'.format(sum(input_data_df.isnull().any())))"
   ]
  },
  {
   "cell_type": "markdown",
   "id": "b4477d4a",
   "metadata": {},
   "source": [
    "#### Check for duplicates"
   ]
  },
  {
   "cell_type": "code",
   "execution_count": 30,
   "id": "55875e1f",
   "metadata": {},
   "outputs": [
    {
     "name": "stdout",
     "output_type": "stream",
     "text": [
      "Total duplicate values: \n",
      "False    100480507\n",
      "dtype: int64\n"
     ]
    }
   ],
   "source": [
    "print('Total duplicate values: \\n{}'.format(input_data_df.duplicated().value_counts()))"
   ]
  },
  {
   "cell_type": "markdown",
   "id": "16a85d25",
   "metadata": {},
   "source": [
    "#### Basic stats"
   ]
  },
  {
   "cell_type": "code",
   "execution_count": 34,
   "id": "244e6579",
   "metadata": {},
   "outputs": [
    {
     "name": "stdout",
     "output_type": "stream",
     "text": [
      "Basic stats\n",
      "Total movies: 17770\n",
      "Total users: 480189\n",
      "Total ratings: 100480507\n"
     ]
    }
   ],
   "source": [
    "print('Basic stats')\n",
    "print('Total movies: {}'.format(len(input_data_df['movie'].unique())))\n",
    "print('Total users: {}'.format(len(input_data_df['user'].unique())))\n",
    "print('Total ratings: {}'.format(len(input_data_df['rating'])))"
   ]
  },
  {
   "cell_type": "code",
   "execution_count": 36,
   "id": "a543d3b5",
   "metadata": {},
   "outputs": [
    {
     "name": "stdout",
     "output_type": "stream",
     "text": [
      "Average rating by all users: 3.604289964420661\n"
     ]
    }
   ],
   "source": [
    "print('Average rating by all users: {}'.format(input_data_df['rating'].mean()))"
   ]
  },
  {
   "cell_type": "code",
   "execution_count": 38,
   "id": "f2e8f7a8",
   "metadata": {},
   "outputs": [
    {
     "name": "stdout",
     "output_type": "stream",
     "text": [
      "Average number of ratings by each user: 209.25199660966828\n",
      "Average number of ratings for each movie: 5654.502363534046\n"
     ]
    }
   ],
   "source": [
    "print('Average number of ratings by each user: {}'.format( len(input_data_df['rating'])/len(input_data_df['user'].unique())))\n",
    "print('Average number of ratings for each movie: {}'.format( len(input_data_df['rating'])/len(input_data_df['movie'].unique())))"
   ]
  },
  {
   "cell_type": "markdown",
   "id": "2f20bb45",
   "metadata": {},
   "source": [
    "The above stat shows that on average 1 user has rated 209 movies."
   ]
  },
  {
   "cell_type": "markdown",
   "id": "d6a223b3",
   "metadata": {},
   "source": [
    "#### Analysis on 'Date'"
   ]
  },
  {
   "cell_type": "code",
   "execution_count": 64,
   "id": "55541299",
   "metadata": {},
   "outputs": [],
   "source": [
    "def number_to_units(number):\n",
    "    if number > 999999999:\n",
    "        return str(round(number/10**9,1))+\" B\"\n",
    "    elif number > 999999:\n",
    "        return str(round(number/10**6,1))+\" M\"\n",
    "    elif number > 999:\n",
    "        return str(round(number/10**3,1))+\" K\"\n",
    "    else:\n",
    "        return str(number)"
   ]
  },
  {
   "cell_type": "code",
   "execution_count": 48,
   "id": "8ab49d48",
   "metadata": {},
   "outputs": [
    {
     "name": "stdout",
     "output_type": "stream",
     "text": [
      "year, month and day_of_week columns are created.\n"
     ]
    }
   ],
   "source": [
    "# Add additional columns for Year, Month, Day of Week\n",
    "input_data_df['year'] = input_data_df['date'].dt.year\n",
    "input_data_df['month'] = input_data_df['date'].dt.month\n",
    "input_data_df['day_of_week'] = input_data_df['date'].dt.day_of_week\n",
    "print('year, month and day_of_week columns are created.')"
   ]
  },
  {
   "cell_type": "code",
   "execution_count": 81,
   "id": "8822d873",
   "metadata": {},
   "outputs": [
    {
     "data": {
      "image/png": "[encoded data removed]",
      "text/plain": [
       "<Figure size 640x480 with 1 Axes>"
      ]
     },
     "metadata": {},
     "output_type": "display_data"
    }
   ],
   "source": [
    "# Plot a trend line\n",
    "ax = input_data_df.resample('m', on='date')['rating'].count().plot()\n",
    "\n",
    "# Set plot title and axis labels\n",
    "ax.set_title('Number of ratings per month')\n",
    "ax.set_xlabel('Month')\n",
    "ax.set_ylabel('Number of ratings')\n",
    "\n",
    "# Set y axis labels\n",
    "ax.set_yticklabels([number_to_units(x) for x in ax.get_yticks()])\n",
    "\n",
    "# Show plot\n",
    "plt.show()"
   ]
  },
  {
   "cell_type": "code",
   "execution_count": 72,
   "id": "53529da3",
   "metadata": {},
   "outputs": [
    {
     "data": {
      "image/png": "[encoded data removed]",
      "text/plain": [
       "<Figure size 640x480 with 1 Axes>"
      ]
     },
     "metadata": {},
     "output_type": "display_data"
    }
   ],
   "source": [
    "# Plot number of ratings per year\n",
    "\n",
    "# Plot using sns countplot\n",
    "ax = sns.countplot(data=input_data_df, x='year')\n",
    "\n",
    "# Set plot title & axis labels\n",
    "plt.title('Number of ratings per year')\n",
    "ax.set_ylabel('Number of ratings')\n",
    "ax.set_xlabel('Year')\n",
    "\n",
    "# Set y axis labels\n",
    "ax.set_yticklabels([number_to_units(x) for x in ax.get_yticks()])\n",
    "\n",
    "# Set bar labels\n",
    "abs_labels = [number_to_units(x) for x in input_data_df['year'].value_counts().sort_index()]\n",
    "ax.bar_label(container=ax.containers[0], labels = abs_labels)\n",
    "\n",
    "# Show plot\n",
    "plt.show()"
   ]
  },
  {
   "cell_type": "markdown",
   "id": "3d1961c4",
   "metadata": {},
   "source": [
    "Conclusion:\n",
    "1. The number of ratings have been increased a lot in recent years"
   ]
  },
  {
   "cell_type": "code",
   "execution_count": 78,
   "id": "bb05deaa",
   "metadata": {
    "scrolled": true
   },
   "outputs": [
    {
     "data": {
      "image/png": "[encoded data removed]",
      "text/plain": [
       "<Figure size 640x480 with 1 Axes>"
      ]
     },
     "metadata": {},
     "output_type": "display_data"
    }
   ],
   "source": [
    "# Plot number of ratings per month\n",
    "\n",
    "# Plot using sns countplot\n",
    "ax = sns.countplot(data=input_data_df, x='month')\n",
    "\n",
    "# Set plot title & axis labels\n",
    "plt.title('Number of ratings per month')\n",
    "ax.set_ylabel('Number of ratings')\n",
    "ax.set_xlabel('Month')\n",
    "\n",
    "# Set y axis labels\n",
    "ax.set_yticklabels([number_to_units(x) for x in ax.get_yticks()])\n",
    "\n",
    "# Set bar labels\n",
    "abs_labels = [number_to_units(x) for x in input_data_df['month'].value_counts().sort_index()]\n",
    "ax.bar_label(container=ax.containers[0], labels = abs_labels)\n",
    "\n",
    "# Show plot\n",
    "plt.show()"
   ]
  },
  {
   "cell_type": "markdown",
   "id": "0f1eeb7f",
   "metadata": {},
   "source": [
    "Conclusion:\n",
    "1. June to October months (6 to 10) seems to get more number of ratings than rest of the year"
   ]
  },
  {
   "cell_type": "code",
   "execution_count": 77,
   "id": "98aa1035",
   "metadata": {},
   "outputs": [
    {
     "data": {
      "image/png": "[encoded data removed]",
      "text/plain": [
       "<Figure size 640x480 with 1 Axes>"
      ]
     },
     "metadata": {},
     "output_type": "display_data"
    }
   ],
   "source": [
    "# Plot number of ratings by day of week\n",
    "\n",
    "# Plot using sns countplot\n",
    "ax = sns.countplot(data=input_data_df, x='day_of_week')\n",
    "\n",
    "# Set plot title & axis labels\n",
    "plt.title('Number of ratings by Day of Week')\n",
    "ax.set_ylabel('Number of ratings')\n",
    "ax.set_xlabel('Day of Week')\n",
    "\n",
    "# Set y axis labels\n",
    "ax.set_yticklabels([number_to_units(x) for x in ax.get_yticks()])\n",
    "\n",
    "# Set bar labels\n",
    "abs_labels = [number_to_units(x) for x in input_data_df['day_of_week'].value_counts().sort_index()]\n",
    "ax.bar_label(container=ax.containers[0], labels = abs_labels)\n",
    "\n",
    "# Show plot\n",
    "plt.show()"
   ]
  },
  {
   "cell_type": "markdown",
   "id": "131cbb51",
   "metadata": {},
   "source": [
    "Conclusion:\n",
    "1. There has been lesser ratings given on Weekends (Saturday - 5  & Sundays - 6) than Weekdays"
   ]
  },
  {
   "cell_type": "code",
   "execution_count": 98,
   "id": "69f27bbb",
   "metadata": {},
   "outputs": [],
   "source": [
    "# Delete the columns 'year', 'month', 'day_of_week', and 'date' since we no longer need them\n",
    "input_data_df.drop(columns=['year', 'month', 'day_of_week', 'date'], axis=1, inplace=True)"
   ]
  },
  {
   "cell_type": "code",
   "execution_count": 101,
   "id": "eea644ba",
   "metadata": {},
   "outputs": [
    {
     "data": {
      "text/html": [
       "<div>\n",
       "<style scoped>\n",
       "    .dataframe tbody tr th:only-of-type {\n",
       "        vertical-align: middle;\n",
       "    }\n",
       "\n",
       "    .dataframe tbody tr th {\n",
       "        vertical-align: top;\n",
       "    }\n",
       "\n",
       "    .dataframe thead th {\n",
       "        text-align: right;\n",
       "    }\n",
       "</style>\n",
       "<table border=\"1\" class=\"dataframe\">\n",
       "  <thead>\n",
       "    <tr style=\"text-align: right;\">\n",
       "      <th></th>\n",
       "      <th>movie</th>\n",
       "      <th>user</th>\n",
       "      <th>rating</th>\n",
       "    </tr>\n",
       "  </thead>\n",
       "  <tbody>\n",
       "    <tr>\n",
       "      <th>56431994</th>\n",
       "      <td>10341</td>\n",
       "      <td>510180</td>\n",
       "      <td>4</td>\n",
       "    </tr>\n",
       "    <tr>\n",
       "      <th>9056171</th>\n",
       "      <td>1798</td>\n",
       "      <td>510180</td>\n",
       "      <td>5</td>\n",
       "    </tr>\n",
       "    <tr>\n",
       "      <th>58698779</th>\n",
       "      <td>10774</td>\n",
       "      <td>510180</td>\n",
       "      <td>3</td>\n",
       "    </tr>\n",
       "    <tr>\n",
       "      <th>48101611</th>\n",
       "      <td>8651</td>\n",
       "      <td>510180</td>\n",
       "      <td>2</td>\n",
       "    </tr>\n",
       "    <tr>\n",
       "      <th>81893208</th>\n",
       "      <td>14660</td>\n",
       "      <td>510180</td>\n",
       "      <td>2</td>\n",
       "    </tr>\n",
       "  </tbody>\n",
       "</table>\n",
       "</div>"
      ],
      "text/plain": [
       "          movie    user  rating\n",
       "56431994  10341  510180       4\n",
       "9056171    1798  510180       5\n",
       "58698779  10774  510180       3\n",
       "48101611   8651  510180       2\n",
       "81893208  14660  510180       2"
      ]
     },
     "execution_count": 101,
     "metadata": {},
     "output_type": "execute_result"
    }
   ],
   "source": [
    "input_data_df.head()"
   ]
  },
  {
   "cell_type": "markdown",
   "id": "a80be5e7",
   "metadata": {},
   "source": [
    "#### Analysis on 'user'"
   ]
  },
  {
   "cell_type": "code",
   "execution_count": 83,
   "id": "a7123a48",
   "metadata": {},
   "outputs": [],
   "source": [
    "# Total number of ratings given by each user\n",
    "total_ratings_per_user = input_data_df.groupby(by='user')['rating'].count().sort_values(ascending=False)"
   ]
  },
  {
   "cell_type": "code",
   "execution_count": 84,
   "id": "ca0459c3",
   "metadata": {},
   "outputs": [
    {
     "data": {
      "text/plain": [
       "user\n",
       "305344     17653\n",
       "387418     17436\n",
       "2439493    16565\n",
       "1664010    15813\n",
       "2118461    14831\n",
       "Name: rating, dtype: int64"
      ]
     },
     "execution_count": 84,
     "metadata": {},
     "output_type": "execute_result"
    }
   ],
   "source": [
    "total_ratings_per_user.head()"
   ]
  },
  {
   "cell_type": "markdown",
   "id": "436ae9c2",
   "metadata": {},
   "source": [
    "It seems like there are many users who have given more than 10,000 ratings which usually is not possible. Lets look at the distribution of total ratings per user"
   ]
  },
  {
   "cell_type": "code",
   "execution_count": 85,
   "id": "911fc0f8",
   "metadata": {},
   "outputs": [
    {
     "data": {
      "image/png": "[encoded data removed]",
      "text/plain": [
       "<Figure size 960x480 with 2 Axes>"
      ]
     },
     "metadata": {},
     "output_type": "display_data"
    }
   ],
   "source": [
    "# Plot PDF & CDF for this\n",
    "fig = plt.figure(figsize=plt.figaspect(0.5))\n",
    "\n",
    "# PDF\n",
    "ax1 = plt.subplot(121)\n",
    "sns.kdeplot(total_ratings_per_user, shade=True, ax=ax1)\n",
    "plt.xlabel(\"Number of ratings by user\")\n",
    "plt.title(\"PDF\")\n",
    "\n",
    "# CDF\n",
    "ax1 = plt.subplot(122)\n",
    "sns.kdeplot(total_ratings_per_user, shade=True, cumulative=True, ax=ax1)\n",
    "plt.xlabel(\"Number of ratings by user\")\n",
    "plt.title(\"PDF\")\n",
    "\n",
    "plt.show()"
   ]
  },
  {
   "cell_type": "code",
   "execution_count": 86,
   "id": "4eb9ced5",
   "metadata": {},
   "outputs": [
    {
     "data": {
      "text/plain": [
       "count    480189.000000\n",
       "mean        209.251997\n",
       "std         302.339155\n",
       "min           1.000000\n",
       "25%          39.000000\n",
       "50%          96.000000\n",
       "75%         259.000000\n",
       "max       17653.000000\n",
       "Name: rating, dtype: float64"
      ]
     },
     "execution_count": 86,
     "metadata": {},
     "output_type": "execute_result"
    }
   ],
   "source": [
    "total_ratings_per_user.describe()"
   ]
  },
  {
   "cell_type": "markdown",
   "id": "ba3baa5f",
   "metadata": {},
   "source": [
    "Lets look at quantiles with 5% interval"
   ]
  },
  {
   "cell_type": "code",
   "execution_count": 89,
   "id": "eee16691",
   "metadata": {},
   "outputs": [
    {
     "data": {
      "text/plain": [
       "0.00        1.0\n",
       "0.05       12.0\n",
       "0.10       19.0\n",
       "0.15       25.0\n",
       "0.20       31.0\n",
       "0.25       39.0\n",
       "0.30       46.0\n",
       "0.35       55.0\n",
       "0.40       66.0\n",
       "0.45       80.0\n",
       "0.50       96.0\n",
       "0.55      117.0\n",
       "0.60      142.0\n",
       "0.65      173.0\n",
       "0.70      211.0\n",
       "0.75      259.0\n",
       "0.80      322.0\n",
       "0.85      410.0\n",
       "0.90      541.0\n",
       "0.95      779.0\n",
       "1.00    17653.0\n",
       "Name: rating, dtype: float64"
      ]
     },
     "execution_count": 89,
     "metadata": {},
     "output_type": "execute_result"
    }
   ],
   "source": [
    "total_ratings_per_user.quantile(np.arange(0, 1.01, 0.05))"
   ]
  },
  {
   "cell_type": "markdown",
   "id": "0d48112b",
   "metadata": {},
   "source": [
    "We can see that over 95% of the users have not given more than 780 ratings"
   ]
  },
  {
   "cell_type": "markdown",
   "id": "015eaa08",
   "metadata": {},
   "source": [
    "#### Analysis on 'movie'"
   ]
  },
  {
   "cell_type": "code",
   "execution_count": 90,
   "id": "0a5a626c",
   "metadata": {},
   "outputs": [],
   "source": [
    "total_ratings_per_movie = input_data_df.groupby(by='movie')['rating'].count().sort_values(ascending=False)"
   ]
  },
  {
   "cell_type": "code",
   "execution_count": 93,
   "id": "59e3a7b4",
   "metadata": {},
   "outputs": [
    {
     "data": {
      "text/plain": [
       "movie\n",
       "5317     232944\n",
       "15124    216596\n",
       "14313    200832\n",
       "15205    196397\n",
       "1905     193941\n",
       "Name: rating, dtype: int64"
      ]
     },
     "execution_count": 93,
     "metadata": {},
     "output_type": "execute_result"
    }
   ],
   "source": [
    "total_ratings_per_movie.head()"
   ]
  },
  {
   "cell_type": "code",
   "execution_count": 94,
   "id": "35c1c664",
   "metadata": {},
   "outputs": [
    {
     "data": {
      "image/png": "[encoded data removed]",
      "text/plain": [
       "<Figure size 960x480 with 2 Axes>"
      ]
     },
     "metadata": {},
     "output_type": "display_data"
    }
   ],
   "source": [
    "# Plot PDF & CDF for this\n",
    "fig = plt.figure(figsize=plt.figaspect(0.5))\n",
    "\n",
    "# PDF\n",
    "ax1 = plt.subplot(121)\n",
    "sns.kdeplot(total_ratings_per_movie, shade=True, ax=ax1)\n",
    "plt.xlabel(\"Number of ratings by movie\")\n",
    "plt.title(\"PDF\")\n",
    "\n",
    "# CDF\n",
    "ax1 = plt.subplot(122)\n",
    "sns.kdeplot(total_ratings_per_movie, shade=True, cumulative=True, ax=ax1)\n",
    "plt.xlabel(\"Number of ratings by movie\")\n",
    "plt.title(\"PDF\")\n",
    "\n",
    "plt.show()"
   ]
  },
  {
   "cell_type": "code",
   "execution_count": 95,
   "id": "7fba33e6",
   "metadata": {},
   "outputs": [
    {
     "data": {
      "text/plain": [
       "count     17770.000000\n",
       "mean       5654.502364\n",
       "std       16909.673269\n",
       "min           3.000000\n",
       "25%         192.000000\n",
       "50%         561.000000\n",
       "75%        2667.750000\n",
       "max      232944.000000\n",
       "Name: rating, dtype: float64"
      ]
     },
     "execution_count": 95,
     "metadata": {},
     "output_type": "execute_result"
    }
   ],
   "source": [
    "total_ratings_per_movie.describe()"
   ]
  },
  {
   "cell_type": "markdown",
   "id": "b8ed25da",
   "metadata": {},
   "source": [
    "Its obvious that popular movies will receive far more ratings than unpopular movies"
   ]
  },
  {
   "cell_type": "code",
   "execution_count": 96,
   "id": "9b922a17",
   "metadata": {},
   "outputs": [
    {
     "data": {
      "text/plain": [
       "0.00         3.00\n",
       "0.05        98.00\n",
       "0.10       117.00\n",
       "0.15       137.00\n",
       "0.20       161.00\n",
       "0.25       192.00\n",
       "0.30       228.00\n",
       "0.35       281.00\n",
       "0.40       349.60\n",
       "0.45       439.00\n",
       "0.50       561.00\n",
       "0.55       754.00\n",
       "0.60      1006.40\n",
       "0.65      1360.00\n",
       "0.70      1948.30\n",
       "0.75      2667.75\n",
       "0.80      4040.20\n",
       "0.85      6638.85\n",
       "0.90     12303.80\n",
       "0.95     29199.60\n",
       "1.00    232944.00\n",
       "Name: rating, dtype: float64"
      ]
     },
     "execution_count": 96,
     "metadata": {},
     "output_type": "execute_result"
    }
   ],
   "source": [
    "total_ratings_per_movie.quantile(np.arange(0, 1.01, 0.05))"
   ]
  },
  {
   "cell_type": "markdown",
   "id": "d20c0773",
   "metadata": {},
   "source": [
    "Only 5% of the movies have received more than 30,000 ratings"
   ]
  },
  {
   "cell_type": "markdown",
   "id": "e47dcd5f",
   "metadata": {},
   "source": [
    "### Split the data into Train & Test"
   ]
  },
  {
   "cell_type": "markdown",
   "id": "254543be",
   "metadata": {},
   "source": [
    "Next, we need to transpose the data into sparse matrix so that we can create user-based and/or item-based matrix. For this, we need all users as rows and all movies as columns. The value in each cell will be the rating for that particular movie by the particular user. <br>\n",
    "Before this, we will split the data into train & test in the ratio 80:20. This split will be based on time since our dataframe is already sorted based on 'date'. Meaning, based on date, first 80% of the data will be train data while the last 20% data will be test data."
   ]
  },
  {
   "cell_type": "code",
   "execution_count": 102,
   "id": "0cd14668",
   "metadata": {},
   "outputs": [
    {
     "name": "stdout",
     "output_type": "stream",
     "text": [
      "Splitting input data into train & test in 80:20 ratio...\n",
      "\n",
      "F:/09 - Machine Learning Case Studies/01 - Netflix Movies Recommendation/Transformed Data/train.csv is created.\n",
      "\n",
      "Time taken: 0:01:40.889652\n",
      "F:/09 - Machine Learning Case Studies/01 - Netflix Movies Recommendation/Transformed Data/test.csv is created.\n",
      "\n",
      "Time taken: 0:02:05.826547\n"
     ]
    }
   ],
   "source": [
    "start = datetime.now()\n",
    "# Train\n",
    "print('Splitting input data into train & test in 80:20 ratio...\\n')\n",
    "if not os.path.isfile(transformed_folder+'/train.csv'):\n",
    "    input_data_df.iloc[:int(input_data_df.shape[0]*0.80)].to_csv(transformed_folder+'/train.csv', index=False)\n",
    "    print(transformed_folder+'/train.csv is created.\\n')\n",
    "    print('Time taken: {}'.format(datetime.now() - start))\n",
    "\n",
    "\n",
    "# Test \n",
    "if not os.path.isfile(transformed_folder+'/test.csv'):\n",
    "    input_data_df.iloc[int(input_data_df.shape[0]*0.80):].to_csv(transformed_folder+'/test.csv', index=False)\n",
    "    print(transformed_folder+'/test.csv is created.\\n')\n",
    "    print('Time taken: {}'.format(datetime.now() - start))"
   ]
  },
  {
   "cell_type": "code",
   "execution_count": 103,
   "id": "b47cd82e",
   "metadata": {},
   "outputs": [],
   "source": [
    "# Lets get basic stats for newly splitted data\n",
    "train_df = pd.read_csv(transformed_folder+'/train.csv')\n",
    "test_df = pd.read_csv(transformed_folder+'/test.csv')"
   ]
  },
  {
   "cell_type": "code",
   "execution_count": 104,
   "id": "9c91c719",
   "metadata": {},
   "outputs": [
    {
     "name": "stdout",
     "output_type": "stream",
     "text": [
      "Shape of train data: (80384405, 3)\n",
      "Shape of test data: (20096102, 3)\n"
     ]
    }
   ],
   "source": [
    "print('Shape of train data: {}'.format(train_df.shape))\n",
    "print('Shape of test data: {}'.format(test_df.shape))"
   ]
  },
  {
   "cell_type": "code",
   "execution_count": 116,
   "id": "e902cf32",
   "metadata": {},
   "outputs": [
    {
     "name": "stdout",
     "output_type": "stream",
     "text": [
      "Basic stats on train\n",
      "Total movies: 17424\n",
      "Total users: 405041\n",
      "Total ratings: 80384405\n"
     ]
    }
   ],
   "source": [
    "print('Basic stats on train')\n",
    "print('Total movies: {}'.format(len(train_df['movie'].unique())))\n",
    "print('Total users: {}'.format(len(train_df['user'].unique())))\n",
    "print('Total ratings: {}'.format(len(train_df['rating'])))"
   ]
  },
  {
   "cell_type": "code",
   "execution_count": 117,
   "id": "f8e721e3",
   "metadata": {},
   "outputs": [
    {
     "name": "stdout",
     "output_type": "stream",
     "text": [
      "Basic stats on test\n",
      "Total movies: 17757\n",
      "Total users: 349312\n",
      "Total ratings: 20096102\n"
     ]
    }
   ],
   "source": [
    "print('Basic stats on test')\n",
    "print('Total movies: {}'.format(len(test_df['movie'].unique())))\n",
    "print('Total users: {}'.format(len(test_df['user'].unique())))\n",
    "print('Total ratings: {}'.format(len(test_df['rating'])))"
   ]
  },
  {
   "cell_type": "markdown",
   "id": "d224941c",
   "metadata": {},
   "source": [
    "Just as curiosity, lets check memory usage by our main large DataFrames"
   ]
  },
  {
   "cell_type": "code",
   "execution_count": 105,
   "id": "ab6384c4",
   "metadata": {
    "scrolled": true
   },
   "outputs": [
    {
     "name": "stdout",
     "output_type": "stream",
     "text": [
      "<class 'pandas.core.frame.DataFrame'>\n",
      "Int64Index: 100480507 entries, 56431994 to 25464092\n",
      "Data columns (total 3 columns):\n",
      " #   Column  Dtype\n",
      "---  ------  -----\n",
      " 0   movie   int64\n",
      " 1   user    int64\n",
      " 2   rating  int64\n",
      "dtypes: int64(3)\n",
      "memory usage: 3.0 GB\n"
     ]
    }
   ],
   "source": [
    "input_data_df.info()"
   ]
  },
  {
   "cell_type": "code",
   "execution_count": 106,
   "id": "c36816cf",
   "metadata": {},
   "outputs": [
    {
     "name": "stdout",
     "output_type": "stream",
     "text": [
      "<class 'pandas.core.frame.DataFrame'>\n",
      "RangeIndex: 80384405 entries, 0 to 80384404\n",
      "Data columns (total 3 columns):\n",
      " #   Column  Dtype\n",
      "---  ------  -----\n",
      " 0   movie   int64\n",
      " 1   user    int64\n",
      " 2   rating  int64\n",
      "dtypes: int64(3)\n",
      "memory usage: 1.8 GB\n"
     ]
    }
   ],
   "source": [
    "train_df.info()"
   ]
  },
  {
   "cell_type": "code",
   "execution_count": 107,
   "id": "4233070d",
   "metadata": {},
   "outputs": [
    {
     "name": "stdout",
     "output_type": "stream",
     "text": [
      "<class 'pandas.core.frame.DataFrame'>\n",
      "RangeIndex: 20096102 entries, 0 to 20096101\n",
      "Data columns (total 3 columns):\n",
      " #   Column  Dtype\n",
      "---  ------  -----\n",
      " 0   movie   int64\n",
      " 1   user    int64\n",
      " 2   rating  int64\n",
      "dtypes: int64(3)\n",
      "memory usage: 460.0 MB\n"
     ]
    }
   ],
   "source": [
    "test_df.info()"
   ]
  },
  {
   "cell_type": "markdown",
   "id": "be963a35",
   "metadata": {},
   "source": [
    "### Convert into Sparse matrix\n",
    "To compute similarity matrix, we need data in a special format (i.e. users as rows and movies as columns). If we store this data as DataFrame/CSV, it will consume a lot of space. And we know that most of the cells in this matrix are going to be zero. So, we will store this matrix as sparse (CSR) matrix which helps us to store this data in compressed format.\n"
   ]
  },
  {
   "cell_type": "code",
   "execution_count": 108,
   "id": "435401cc",
   "metadata": {},
   "outputs": [],
   "source": [
    "# Some imports\n",
    "from scipy import sparse\n",
    "from scipy.sparse import csr_matrix"
   ]
  },
  {
   "cell_type": "markdown",
   "id": "01acd264",
   "metadata": {},
   "source": [
    "#### Create sparse matrix from train"
   ]
  },
  {
   "cell_type": "code",
   "execution_count": 109,
   "id": "6b0cefd5",
   "metadata": {},
   "outputs": [
    {
     "name": "stdout",
     "output_type": "stream",
     "text": [
      "Sparse matrix for train already exists, getting it from disk...\n",
      "Done!\n",
      "Time taken: 0:00:02.520345\n"
     ]
    }
   ],
   "source": [
    "start = datetime.now()\n",
    "\n",
    "# Check if already exists, else create\n",
    "if os.path.isfile(transformed_folder+'/train_sparse_matrix.npz'):\n",
    "    print('Sparse matrix for train already exists, getting it from disk...')\n",
    "    train_sparse_matrix = sparse.load_npz(transformed_folder+'/train_sparse_matrix.npz')\n",
    "    print('Done!')\n",
    "    print('Time taken: {}'.format(datetime.now() - start))\n",
    "else:\n",
    "    print('Creating sparse matrix from train...')\n",
    "    \n",
    "    # csr_matrix( (data, (rows, columns)), shape )\n",
    "    train_sparse_matrix = csr_matrix( (train_df.rating.values, (train_df.user.values, train_df.movie.values)), )\n",
    "    \n",
    "    # save to disk\n",
    "    print('Saving to {}'.format(transformed_folder+'/train_sparse_matrix.npz'))\n",
    "    sparse.save_npz(transformed_folder+'/train_sparse_matrix.npz', train_sparse_matrix)\n",
    "    print('Done!')\n",
    "    print('Time taken: {}'.format(datetime.now() - start))"
   ]
  },
  {
   "cell_type": "code",
   "execution_count": 112,
   "id": "f2aa01e9",
   "metadata": {},
   "outputs": [
    {
     "name": "stdout",
     "output_type": "stream",
     "text": [
      "Sparsity of train_sparse_matrix: 0.998292709259195\n"
     ]
    }
   ],
   "source": [
    "rows, cols = train_sparse_matrix.shape\n",
    "non_zeros = train_sparse_matrix.count_nonzero()\n",
    "\n",
    "print('Sparsity of train_sparse_matrix: {}'.format(1 - (non_zeros/(rows*cols))))"
   ]
  },
  {
   "cell_type": "markdown",
   "id": "6edf4fe0",
   "metadata": {},
   "source": [
    "#### Create sparse matrix from test"
   ]
  },
  {
   "cell_type": "code",
   "execution_count": 113,
   "id": "8940d298",
   "metadata": {},
   "outputs": [
    {
     "name": "stdout",
     "output_type": "stream",
     "text": [
      "Sparse matrix for test already exists, getting it from disk...\n",
      "Done!\n",
      "Time taken: 0:00:00.646131\n"
     ]
    }
   ],
   "source": [
    "start = datetime.now()\n",
    "\n",
    "if os.path.isfile(transformed_folder+'/test_sparse_matrix.npz'):\n",
    "    print('Sparse matrix for test already exists, getting it from disk...')\n",
    "    test_sparse_matrix = sparse.load_npz(transformed_folder+'/test_sparse_matrix.npz')\n",
    "    print('Done!')\n",
    "    print('Time taken: {}'.format(datetime.now() - start))\n",
    "else:\n",
    "    print('Creating sparse matrix from test...')\n",
    "    test_sparse_matrix = csr_matrix( (test_df.rating.values, (test_df.user.values, test_df.movie.values)), )\n",
    "    \n",
    "    # save to disk\n",
    "    print('Saving to {}'.format(transformed_folder+'/test_sparse_matrix.npz'))\n",
    "    sparse.save_npz(transformed_folder+'/test_sparse_matrix.npz', test_sparse_matrix)\n",
    "    print('Done!')\n",
    "    print('Time taken: {}',format(datetime.now() - start))\n",
    "    "
   ]
  },
  {
   "cell_type": "code",
   "execution_count": 114,
   "id": "8919d49f",
   "metadata": {},
   "outputs": [
    {
     "name": "stdout",
     "output_type": "stream",
     "text": [
      "Sparsity of train_sparse_matrix: 0.9995731772988694\n"
     ]
    }
   ],
   "source": [
    "rows, cols = test_sparse_matrix.shape\n",
    "non_zeros = test_sparse_matrix.count_nonzero()\n",
    "\n",
    "print('Sparsity of train_sparse_matrix: {}'.format(1 - (non_zeros/(rows*cols))))"
   ]
  },
  {
   "cell_type": "code",
   "execution_count": null,
   "id": "72bc499d",
   "metadata": {},
   "outputs": [],
   "source": []
  }
 ],
 "metadata": {
  "kernelspec": {
   "display_name": "Python [conda env:ds] *",
   "language": "python",
   "name": "conda-env-ds-py"
  },
  "language_info": {
   "codemirror_mode": {
    "name": "ipython",
    "version": 3
   },
   "file_extension": ".py",
   "mimetype": "text/x-python",
   "name": "python",
   "nbconvert_exporter": "python",
   "pygments_lexer": "ipython3",
   "version": "3.9.6"
  }
 },
 "nbformat": 4,
 "nbformat_minor": 5
}
