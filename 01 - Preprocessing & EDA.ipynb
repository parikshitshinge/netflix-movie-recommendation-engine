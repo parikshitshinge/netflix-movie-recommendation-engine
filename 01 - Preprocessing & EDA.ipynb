{
 "cells": [
  {
   "cell_type": "markdown",
   "id": "b9020f04",
   "metadata": {},
   "source": [
    "# Netflix movie recommendation engine\n",
    "Kaggle competition link: https://www.kaggle.com/datasets/netflix-inc/netflix-prize-data "
   ]
  },
  {
   "cell_type": "markdown",
   "id": "ba7afd0a",
   "metadata": {},
   "source": [
    "### Given data:<br>\n",
    "There are 4 txt files (combined_data_(1,2,3,4).txt) given.<br>\n",
    "Each file consists of movie ID followed by colon and then list of Customer ID, Rating, Date on each of next line.<br>\n",
    "~ MovieIDs range from 1 to 17770 sequentially. <br>\n",
    "~ CustomerIDs range from 1 to 2649429, with gaps. There are 480189 users. <br>\n",
    "~ Ratings are on a five star (integral) scale from 1 to 5. <br>\n",
    "~ Dates have the format YYYY-MM-DD.<br><br>\n",
    "The txt format is like this:\n",
    "<br><br>\n",
    "MovieID1:<br>\n",
    "CustomerID11,Rating11,Date11<br>\n",
    "CustomerID12,Rating12,Date12<br>\n",
    "...<br>\n",
    "MovieID2:<br>\n",
    "CustomerID21,Rating21,Date21<br>\n",
    "CustomerID22,Rating22,Date22<br>\n",
    "<br>\n",
    "Another file is provided in which movie information is given \"movie_titles.txt\" is in the following format:<br>\n",
    "\n",
    "MovieID,YearOfRelease,Title\n",
    "\n",
    "~ MovieID do not correspond to actual Netflix movie ids or IMDB movie ids. <br>\n",
    "~ YearOfRelease can range from 1890 to 2005 and may correspond to the release of corresponding DVD, not necessarily its theaterical release. <br>\n",
    "~ Title is the Netflix movie title and may not correspond to titles used on other sites. Titles are in English.<br>\n",
    "\n",
    "<br>\n",
    "\n",
    "### Objectives:\n",
    "1. Predict the rating that a user would give to a movie that he ahs not yet rated.\n",
    "2. Minimize the difference between predicted and actual rating (RMSE and MAPE)"
   ]
  },
  {
   "cell_type": "markdown",
   "id": "d68ea798",
   "metadata": {},
   "source": [
    "### 1. Preprocessing"
   ]
  },
  {
   "cell_type": "code",
   "execution_count": 3,
   "id": "6bab7967",
   "metadata": {},
   "outputs": [],
   "source": [
    "# Initial imports\n",
    "from datetime import datetime # To compute time taken wherever necessary\n",
    "import os\n",
    "import pandas as pd \n",
    "import numpy as np\n",
    "import matplotlib.pyplot as plt\n",
    "import seaborn as sns"
   ]
  },
  {
   "cell_type": "markdown",
   "id": "5d033bd8",
   "metadata": {},
   "source": [
    "#### Convert the data to table format like movieID, userID, rating <br> After that, merge data from all 4 .txt files to 1 csv"
   ]
  },
  {
   "cell_type": "code",
   "execution_count": 14,
   "id": "761bb4a0",
   "metadata": {},
   "outputs": [
    {
     "name": "stdout",
     "output_type": "stream",
     "text": [
      "Reading data from F:/09 - Machine Learning Case Studies/01 - Netflix Movies Recommendation/Input Data/combined_data_1.txt\n",
      "Done.\n",
      "\n",
      "Reading data from F:/09 - Machine Learning Case Studies/01 - Netflix Movies Recommendation/Input Data/combined_data_2.txt\n",
      "Done.\n",
      "\n",
      "Reading data from F:/09 - Machine Learning Case Studies/01 - Netflix Movies Recommendation/Input Data/combined_data_3.txt\n",
      "Done.\n",
      "\n",
      "Reading data from F:/09 - Machine Learning Case Studies/01 - Netflix Movies Recommendation/Input Data/combined_data_4.txt\n",
      "Done.\n",
      "\n",
      "\n",
      "Time taken for transformation:  0:04:29.441330\n"
     ]
    }
   ],
   "source": [
    "# Define the input folder, input files and transformed folder\n",
    "input_folder = 'F:/09 - Machine Learning Case Studies/01 - Netflix Movies Recommendation/Input Data'\n",
    "transformed_folder = 'F:/09 - Machine Learning Case Studies/01 - Netflix Movies Recommendation/Transformed Data'\n",
    "input_files = [input_folder+'/combined_data_1.txt', input_folder+'/combined_data_2.txt', input_folder+'/combined_data_3.txt', input_folder+'/combined_data_4.txt']\n",
    "\n",
    "start = datetime.now()\n",
    "if not os.path.isfile(transformed_folder+'/input_data.csv'):\n",
    "    transformed_data_file = open(transformed_folder+'/input_data.csv', mode='w')\n",
    "    \n",
    "    for current_file in input_files:\n",
    "        print('Reading data from {}'.format(current_file))\n",
    "        with open(current_file) as file_content:\n",
    "            for each_line in file_content:\n",
    "                each_line = each_line.strip()\n",
    "                if each_line.endswith(':'): # This is line on which movie_id is present\n",
    "                    movie_id = each_line.replace(':', '')\n",
    "                else: # Rest of the data lines where UserID, Rating, Date are present\n",
    "                    record = [word for word in each_line.split(',')]\n",
    "                    record.insert(0, movie_id)\n",
    "                    transformed_data_file.write(','.join(record))\n",
    "                    transformed_data_file.write('\\n')\n",
    "        print('Done.\\n')\n",
    "    transformed_data_file.close()\n",
    "print('\\nTime taken for transformation: ', datetime.now()-start)"
   ]
  },
  {
   "cell_type": "code",
   "execution_count": 20,
   "id": "04fc42db",
   "metadata": {},
   "outputs": [
    {
     "name": "stdout",
     "output_type": "stream",
     "text": [
      "Loading the transformed .csv into DataFrame\n",
      "Done.\n",
      "\n",
      "**************************************************\n",
      "Time taken for the task:  0:01:06.235585\n"
     ]
    }
   ],
   "source": [
    "# Load the transformed input data to DataFrame\n",
    "start = datetime.now()\n",
    "print('Loading the transformed .csv into DataFrame')\n",
    "input_data_df = pd.read_csv(transformed_folder+'/input_data.csv', sep=',', names=['movie','user','rating','date'])\n",
    "input_data_df.date = pd.to_datetime(input_data_df.date) # Change datatype to datetime\n",
    "print('Done.\\n')\n",
    "print('*'*50)\n",
    "print('Time taken for the task: ', datetime.now()-start)"
   ]
  },
  {
   "cell_type": "code",
   "execution_count": 17,
   "id": "829bfc28",
   "metadata": {},
   "outputs": [
    {
     "data": {
      "text/html": [
       "<div>\n",
       "<style scoped>\n",
       "    .dataframe tbody tr th:only-of-type {\n",
       "        vertical-align: middle;\n",
       "    }\n",
       "\n",
       "    .dataframe tbody tr th {\n",
       "        vertical-align: top;\n",
       "    }\n",
       "\n",
       "    .dataframe thead th {\n",
       "        text-align: right;\n",
       "    }\n",
       "</style>\n",
       "<table border=\"1\" class=\"dataframe\">\n",
       "  <thead>\n",
       "    <tr style=\"text-align: right;\">\n",
       "      <th></th>\n",
       "      <th>movie</th>\n",
       "      <th>user</th>\n",
       "      <th>rating</th>\n",
       "      <th>date</th>\n",
       "    </tr>\n",
       "  </thead>\n",
       "  <tbody>\n",
       "    <tr>\n",
       "      <th>0</th>\n",
       "      <td>1</td>\n",
       "      <td>1488844</td>\n",
       "      <td>3</td>\n",
       "      <td>2005-09-06</td>\n",
       "    </tr>\n",
       "    <tr>\n",
       "      <th>1</th>\n",
       "      <td>1</td>\n",
       "      <td>822109</td>\n",
       "      <td>5</td>\n",
       "      <td>2005-05-13</td>\n",
       "    </tr>\n",
       "    <tr>\n",
       "      <th>2</th>\n",
       "      <td>1</td>\n",
       "      <td>885013</td>\n",
       "      <td>4</td>\n",
       "      <td>2005-10-19</td>\n",
       "    </tr>\n",
       "    <tr>\n",
       "      <th>3</th>\n",
       "      <td>1</td>\n",
       "      <td>30878</td>\n",
       "      <td>4</td>\n",
       "      <td>2005-12-26</td>\n",
       "    </tr>\n",
       "    <tr>\n",
       "      <th>4</th>\n",
       "      <td>1</td>\n",
       "      <td>823519</td>\n",
       "      <td>3</td>\n",
       "      <td>2004-05-03</td>\n",
       "    </tr>\n",
       "  </tbody>\n",
       "</table>\n",
       "</div>"
      ],
      "text/plain": [
       "   movie     user  rating       date\n",
       "0      1  1488844       3 2005-09-06\n",
       "1      1   822109       5 2005-05-13\n",
       "2      1   885013       4 2005-10-19\n",
       "3      1    30878       4 2005-12-26\n",
       "4      1   823519       3 2004-05-03"
      ]
     },
     "execution_count": 17,
     "metadata": {},
     "output_type": "execute_result"
    }
   ],
   "source": [
    "input_data_df.head()"
   ]
  },
  {
   "cell_type": "code",
   "execution_count": 21,
   "id": "9cd44438",
   "metadata": {},
   "outputs": [
    {
     "name": "stdout",
     "output_type": "stream",
     "text": [
      "Sorting the DataFrame by date in ascending order\n",
      "Done.\n",
      "\n",
      "**************************************************\n",
      "Time taken for the task:  0:00:38.889256\n"
     ]
    }
   ],
   "source": [
    "# Sort the dataframe based on date ascendingly\n",
    "start = datetime.now()\n",
    "print('Sorting the DataFrame by date in ascending order')\n",
    "input_data_df.sort_values(by='date', inplace=True)\n",
    "print('Done.\\n')\n",
    "print('*'*50)\n",
    "print('Time taken for the task: ', datetime.now()-start)"
   ]
  },
  {
   "cell_type": "code",
   "execution_count": null,
   "id": "81bb5982",
   "metadata": {},
   "outputs": [],
   "source": []
  }
 ],
 "metadata": {
  "kernelspec": {
   "display_name": "Python [conda env:ds] *",
   "language": "python",
   "name": "conda-env-ds-py"
  },
  "language_info": {
   "codemirror_mode": {
    "name": "ipython",
    "version": 3
   },
   "file_extension": ".py",
   "mimetype": "text/x-python",
   "name": "python",
   "nbconvert_exporter": "python",
   "pygments_lexer": "ipython3",
   "version": "3.9.6"
  }
 },
 "nbformat": 4,
 "nbformat_minor": 5
}
